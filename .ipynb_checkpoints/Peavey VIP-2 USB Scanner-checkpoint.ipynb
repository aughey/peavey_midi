{
 "cells": [
  {
   "cell_type": "markdown",
   "metadata": {},
   "source": [
    "# Peavey VIP-2 USB Scanner"
   ]
  },
  {
   "cell_type": "code",
   "execution_count": 1,
   "metadata": {},
   "outputs": [],
   "source": [
    "import mido\n",
    "import sys\n",
    "import time"
   ]
  },
  {
   "cell_type": "markdown",
   "metadata": {},
   "source": [
    "Get Find the midi ports with VYPYR in in"
   ]
  },
  {
   "cell_type": "code",
   "execution_count": 2,
   "metadata": {},
   "outputs": [
    {
     "name": "stdout",
     "output_type": "stream",
     "text": [
      "Output Opened:  VYPYR USB Interface:VYPYR USB Interface MIDI 1 20:0\n",
      "Input Opened:   VYPYR USB Interface:VYPYR USB Interface MIDI 1 20:0\n"
     ]
    }
   ],
   "source": [
    "input = None\n",
    "output = None\n",
    "\n",
    "for name in mido.get_output_names():\n",
    "  if name.startswith(\"VYPYR\"):\n",
    "    output = mido.open_output(name)\n",
    "    print(\"Output Opened: \",name)\n",
    "    \n",
    "for name in mido.get_input_names():\n",
    "  if name.startswith(\"VYPYR\"):\n",
    "    input = mido.open_input(name)\n",
    "    print(\"Input Opened:  \",name)\n"
   ]
  },
  {
   "cell_type": "code",
   "execution_count": 34,
   "metadata": {},
   "outputs": [
    {
     "name": "stdout",
     "output_type": "stream",
     "text": [
      "sysex data=(0,0,27,18,9,99,127,127,1,7,6,4,3,5,6,4,5,10,6,4,0,2,0,6,0,6,0,10,0,0,3,7,3,7,0,2,2,8,0,2,0,0,0,0,4,0,4,0,15,15,15,15,15,15,15,15,15,15,15,15,15,15,15,15,15,15,15,15,15,15,15,15,15,15,15,15,15,15,15,15,15,15,15,15,15,15,15,15,15,15,15,15,15,15,15,15,15,15,15,15,15,15,15,15,15,15,15,15,15,15,15,15,15,15,15,15,15,15,15,15,15,15,15,15,15,15,15,15,15,15,15,15,15,15,15,15,15,15,15,15,15,15,15,15,15,15,15,15,15,15,15,15,15,15,15,15,15,15,15,15,15,15,15,15,15,15,15,15,15,15,15,15,15,15,15,15,15,15,15,15,15,15,15,15,15,15,15,15,15,15,0,0,0,0,0,0,0,0,4,12,4,5,4,1,4,4,2,0,4,7,4,1,4,9,4,14,2,0,2,0,2,0,2,0,2,0,2,0,2,0,2,0,2,0,2,0,2,0,2,0,2,0,2,0,2,0,2,0,2,0,2,0,2,0,2,0,2,0,2,0,2,0,10,5) time=0\n",
      "F0 00 00 1B 12 09 63 7F 7F 01 07 06 04 03 05 06 04 05 0A 06 04 00 02 00 06 00 06 00 0A 00 00 03 07 03 07 00 02 02 08 00 02 00 00 00 00 04 00 04 00 0F 0F 0F 0F 0F 0F 0F 0F 0F 0F 0F 0F 0F 0F 0F 0F 0F 0F 0F 0F 0F 0F 0F 0F 0F 0F 0F 0F 0F 0F 0F 0F 0F 0F 0F 0F 0F 0F 0F 0F 0F 0F 0F 0F 0F 0F 0F 0F 0F 0F 0F 0F 0F 0F 0F 0F 0F 0F 0F 0F 0F 0F 0F 0F 0F 0F 0F 0F 0F 0F 0F 0F 0F 0F 0F 0F 0F 0F 0F 0F 0F 0F 0F 0F 0F 0F 0F 0F 0F 0F 0F 0F 0F 0F 0F 0F 0F 0F 0F 0F 0F 0F 0F 0F 0F 0F 0F 0F 0F 0F 0F 0F 0F 0F 0F 0F 0F 0F 0F 0F 0F 0F 0F 0F 0F 0F 0F 0F 0F 0F 0F 0F 0F 0F 0F 0F 0F 0F 0F 0F 0F 0F 00 00 00 00 00 00 00 00 04 0C 04 05 04 01 04 04 02 00 04 07 04 01 04 09 04 0E 02 00 02 00 02 00 02 00 02 00 02 00 02 00 02 00 02 00 02 00 02 00 02 00 02 00 02 00 02 00 02 00 02 00 02 00 02 00 02 00 02 00 02 00 02 00 0A 05 F7\n",
      "control_change channel=0 control=8 value=2 time=0\n",
      "B0 08 02\n"
     ]
    }
   ],
   "source": [
    "prefix = [ 0x00, 0x00, 0x1B, 0x12, 0x00]\n",
    "def send_control(id,value):\n",
    "    output.send(msg = mido.Message(\"control_change\", control=id, value=value))\n",
    "\n",
    "def send_query():\n",
    "    flush()\n",
    "    msg = mido.Message('sysex', data= prefix + [0x63, 0x7f, 0x7f])\n",
    "    output.send(msg)\n",
    "def flush():\n",
    "    for msg in input.iter_pending():\n",
    "        None\n",
    "def read_data():\n",
    "    for msg in input.iter_pending():\n",
    "       print(msg)\n",
    "       print(msg.hex())\n",
    "def read_block(type = None):\n",
    "    for msg in input:\n",
    "       if type == None or type == msg.type:\n",
    "           return msg\n",
    "def read_conf():\n",
    "    send_query();\n",
    "    return read_block(type='sysex')\n",
    "def wait_for_data(t):\n",
    "    start = time.time()\n",
    "    while time.time() - start < t:\n",
    "        msg = input.poll()\n",
    "        print(\"a\")\n",
    "        if msg:\n",
    "            return msg\n",
    "    return None\n",
    "read_data()\n",
    "flush()"
   ]
  },
  {
   "cell_type": "code",
   "execution_count": 35,
   "metadata": {},
   "outputs": [],
   "source": [
    "msg = mido.Message('note_on',note=0x10, channel=1)\n",
    "output.send(msg);\n",
    "msg = mido.Message('note_off',note=0x10, channel=1)\n",
    "output.send(msg);\n"
   ]
  },
  {
   "cell_type": "code",
   "execution_count": 36,
   "metadata": {},
   "outputs": [
    {
     "data": {
      "text/plain": [
       "<_rtmidi.MidiOut at 0xb10d7058>"
      ]
     },
     "execution_count": 36,
     "metadata": {},
     "output_type": "execute_result"
    }
   ],
   "source": [
    "output._rt"
   ]
  },
  {
   "cell_type": "code",
   "execution_count": 37,
   "metadata": {},
   "outputs": [
    {
     "name": "stdout",
     "output_type": "stream",
     "text": [
      "F0 7E 7F 06 01 F7\n"
     ]
    }
   ],
   "source": [
    "#msg = mido.Message('sysex', data=[0x00,0x00,0x04,0x1b,0x12,0x00,0x04,0x63,0x7f,0x7f,0x05])\n",
    "msg = mido.Message('sysex', data=[ 0x7E, 0x7F, 0x06, 0x01])\n",
    "print(msg.hex())"
   ]
  },
  {
   "cell_type": "code",
   "execution_count": 38,
   "metadata": {},
   "outputs": [
    {
     "name": "stdout",
     "output_type": "stream",
     "text": [
      "sysex data=(126,0,6,2,0,0,27,18,0,9,0,48,49,54,49) time=0\n"
     ]
    }
   ],
   "source": [
    "output.send(msg)\n",
    "print(read_block());"
   ]
  },
  {
   "cell_type": "code",
   "execution_count": null,
   "metadata": {},
   "outputs": [],
   "source": []
  },
  {
   "cell_type": "code",
   "execution_count": null,
   "metadata": {},
   "outputs": [],
   "source": []
  },
  {
   "cell_type": "code",
   "execution_count": 39,
   "metadata": {},
   "outputs": [
    {
     "name": "stdout",
     "output_type": "stream",
     "text": [
      "sysex data=(0,0,27,18,9,99,127,127,0,14,6,7,6,10,5,15,7,15,4,15,0,2,0,6,0,6,0,10,0,0,3,7,3,7,0,2,2,8,0,2,0,0,0,0,4,0,4,0,15,15,15,15,15,15,15,15,15,15,15,15,15,15,15,15,15,15,15,15,15,15,15,15,15,15,15,15,15,15,15,15,15,15,15,15,15,15,15,15,15,15,15,15,15,15,15,15,15,15,15,15,15,15,15,15,15,15,15,15,15,15,15,15,15,15,15,15,15,15,15,15,15,15,15,15,15,15,15,15,15,15,15,15,15,15,15,15,15,15,15,15,15,15,15,15,15,15,15,15,15,15,15,15,15,15,15,15,15,15,15,15,15,15,15,15,15,15,15,15,15,15,15,15,15,15,15,15,15,15,15,15,15,15,15,15,15,15,15,15,15,15,0,0,0,0,0,0,0,0,4,12,4,5,4,1,4,4,2,0,4,7,4,1,4,9,4,14,2,0,2,0,2,0,2,0,2,0,2,0,2,0,2,0,2,0,2,0,2,0,2,0,2,0,2,0,2,0,2,0,2,0,2,0,2,0,2,0,2,0,2,0,2,0,10,5) time=0\n"
     ]
    }
   ],
   "source": [
    "\n",
    "send_query()\n",
    "print(read_block())"
   ]
  },
  {
   "cell_type": "code",
   "execution_count": 40,
   "metadata": {},
   "outputs": [
    {
     "data": {
      "text/plain": [
       "True"
      ]
     },
     "execution_count": 40,
     "metadata": {},
     "output_type": "execute_result"
    }
   ],
   "source": [
    "send_query()\n",
    "a = read_block()\n",
    "time.sleep(1)\n",
    "send_query()\n",
    "b = read_block()\n",
    "a == b"
   ]
  },
  {
   "cell_type": "code",
   "execution_count": 41,
   "metadata": {},
   "outputs": [],
   "source": [
    "def find_control(id):\n",
    "    send_control(id,1);\n",
    "    a = read_conf()\n",
    "    send_control(id,2);\n",
    "    b = read_conf()\n",
    "    i=0\n",
    "    for v in zip(a.data,b.data):\n",
    "        if v[0] != v[1]:\n",
    "            print(\"  Index: \",hex(i),\" \",hex(v[0]),\" != \",hex(v[1]))\n",
    "        i=i+1"
   ]
  },
  {
   "cell_type": "code",
   "execution_count": 42,
   "metadata": {},
   "outputs": [
    {
     "name": "stdout",
     "output_type": "stream",
     "text": [
      "  Index:  0x13   0x1  !=  0x2\n"
     ]
    }
   ],
   "source": [
    "flush()\n",
    "find_control(20)"
   ]
  },
  {
   "cell_type": "code",
   "execution_count": 43,
   "metadata": {},
   "outputs": [
    {
     "name": "stdout",
     "output_type": "stream",
     "text": [
      "  Index:  0x23   0x1  !=  0x2\n"
     ]
    }
   ],
   "source": [
    "find_control(21)"
   ]
  },
  {
   "cell_type": "markdown",
   "metadata": {},
   "source": [
    "## Documentation:\n",
    "\n",
    "### Control Change\n",
    "\n",
    "* pregain = 16\n",
    "* low = 17\n",
    "* mid = 18\n",
    "* high = 19\n",
    "* postgain = 20\n",
    "\n",
    "* P1 = 27\n",
    "* P2 = 26\n",
    "* Delay Feedback = 21\n",
    "* Delay Level = 23\n",
    "* Reverb = 31\n",
    "\n",
    "* Effect = 10\n",
    "* Amp = 8\n",
    "* Inst/Stop = 11"
   ]
  },
  {
   "cell_type": "code",
   "execution_count": 47,
   "metadata": {},
   "outputs": [],
   "source": [
    "known_controls = {\n",
    "    \"pregain\" : 16,\n",
    "    \"low\": 17,\n",
    "    \"mid\" : 18,\n",
    "    \"high\" : 19,\n",
    "    \"postgain\" : 20,\n",
    "    \"P1\" : 27,\n",
    "    \"P2\" : 26,\n",
    "    \"Delay Feedback\" : 21,\n",
    "    \"Delay Level\" : 23,\n",
    "}"
   ]
  },
  {
   "cell_type": "code",
   "execution_count": 46,
   "metadata": {},
   "outputs": [
    {
     "name": "stdout",
     "output_type": "stream",
     "text": [
      "Control:  1\n",
      "Control:  2\n",
      "Control:  3\n",
      "Control:  4\n",
      "Control:  5\n",
      "Control:  6\n",
      "Control:  7\n",
      "Control:  8\n",
      "  Index:  0x8   0x2  !=  0x1\n",
      "  Index:  0x9   0x3  !=  0xa\n",
      "  Index:  0xa   0x6  !=  0x0\n",
      "  Index:  0xb   0x4  !=  0x2\n",
      "  Index:  0xc   0x3  !=  0x0\n",
      "  Index:  0xd   0x5  !=  0x2\n",
      "  Index:  0xe   0x6  !=  0x0\n",
      "  Index:  0xf   0x4  !=  0x2\n",
      "  Index:  0x10   0x5  !=  0x0\n",
      "  Index:  0x11   0xa  !=  0x2\n",
      "  Index:  0x12   0x6  !=  0x0\n",
      "  Index:  0x13   0x4  !=  0x2\n",
      "Control:  9\n",
      "Control:  10\n",
      "  Index:  0x19   0x1  !=  0xc\n",
      "  Index:  0x1a   0x3  !=  0x0\n",
      "  Index:  0x1b   0x4  !=  0x2\n",
      "  Index:  0x1c   0x5  !=  0x0\n",
      "Control:  11\n",
      "  Index:  0x8   0x0  !=  0x1\n",
      "  Index:  0x9   0x8  !=  0xa\n",
      "  Index:  0xa   0x6  !=  0x0\n",
      "  Index:  0xb   0x4  !=  0x2\n",
      "  Index:  0xc   0x3  !=  0x0\n",
      "  Index:  0xd   0xf  !=  0x2\n",
      "  Index:  0xe   0x5  !=  0x0\n",
      "  Index:  0xf   0x5  !=  0x2\n",
      "  Index:  0x11   0x0  !=  0x2\n",
      "  Index:  0x12   0x7  !=  0x0\n",
      "  Index:  0x13   0xf  !=  0x2\n",
      "  Index:  0x2b   0x4  !=  0xa\n",
      "  Index:  0x2c   0x5  !=  0x0\n",
      "  Index:  0x2d   0x4  !=  0x2\n",
      "  Index:  0x2e   0x2  !=  0x0\n",
      "  Index:  0x2f   0xa  !=  0x2\n",
      "Control:  12\n",
      "  Index:  0x8   0x0  !=  0x1\n",
      "  Index:  0x9   0xe  !=  0xa\n",
      "  Index:  0xa   0x6  !=  0x0\n",
      "  Index:  0xb   0x7  !=  0x2\n",
      "  Index:  0xc   0x6  !=  0x0\n",
      "  Index:  0xd   0xa  !=  0x2\n",
      "  Index:  0xe   0x5  !=  0x0\n",
      "  Index:  0xf   0xf  !=  0x2\n",
      "  Index:  0x10   0x7  !=  0x0\n",
      "  Index:  0x11   0xf  !=  0x2\n",
      "Control:  13\n",
      "Control:  14\n",
      "Control:  15\n",
      "Control:  16\n",
      "  Index:  0x11   0x1  !=  0x2\n",
      "Control:  17\n",
      "  Index:  0xb   0x1  !=  0x2\n",
      "Control:  18\n",
      "  Index:  0xd   0x1  !=  0x2\n",
      "Control:  19\n",
      "  Index:  0xf   0x1  !=  0x2\n",
      "Control:  20\n",
      "  Index:  0x13   0x1  !=  0x2\n",
      "Control:  21\n",
      "  Index:  0x23   0x1  !=  0x2\n",
      "Control:  22\n",
      "Control:  23\n",
      "  Index:  0x27   0x1  !=  0x2\n",
      "Control:  24\n",
      "  Index:  0x2f   0x1  !=  0x2\n",
      "Control:  25\n",
      "  Index:  0x2d   0x1  !=  0x2\n",
      "Control:  26\n",
      "  Index:  0x1d   0x1  !=  0x2\n",
      "Control:  27\n",
      "  Index:  0x1b   0x1  !=  0x2\n",
      "Control:  28\n",
      "Control:  29\n",
      "Control:  30\n",
      "Control:  31\n",
      "  Index:  0x15   0x1  !=  0x2\n"
     ]
    }
   ],
   "source": [
    "for control in range(1,32):\n",
    "    print(\"Control: \",control)\n",
    "    find_control(control)"
   ]
  },
  {
   "cell_type": "code",
   "execution_count": null,
   "metadata": {},
   "outputs": [],
   "source": []
  },
  {
   "cell_type": "code",
   "execution_count": null,
   "metadata": {},
   "outputs": [],
   "source": []
  }
 ],
 "metadata": {
  "kernelspec": {
   "display_name": "Python 3",
   "language": "python",
   "name": "python3"
  },
  "language_info": {
   "codemirror_mode": {
    "name": "ipython",
    "version": 3
   },
   "file_extension": ".py",
   "mimetype": "text/x-python",
   "name": "python",
   "nbconvert_exporter": "python",
   "pygments_lexer": "ipython3",
   "version": "3.5.3"
  }
 },
 "nbformat": 4,
 "nbformat_minor": 2
}
