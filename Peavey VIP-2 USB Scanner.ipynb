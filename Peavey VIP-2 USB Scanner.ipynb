{
 "cells": [
  {
   "cell_type": "markdown",
   "metadata": {},
   "source": [
    "# Peavey VIP-2 USB Scanner\n",
    "\n",
    "![Peavey VIP-2](vip2-small.png)\n",
    "\n",
    "Other relevant documentation includes:\n",
    "\n",
    "* Peavey Vypyr Pro MIDI Specification (not entirely the same, but ideas are shared) https://assets.peavey.com/literature/additional/118745_31036.pdf\n",
    "* My own footswitch controller for Arduino https://github.com/aughey/peavey_footswitch/blob/master/peavey_footswitch.ino\n",
    "* Another DIY footswitch http://www.claytonfelt.com/peavey-vypyr-vip-amp-diy-midi-footswitch/\n",
    "* Link to a reverse engineered MIDI spec for the commercial footswitch https://www.vguitarforums.com/smf/index.php?topic=3119.0"
   ]
  },
  {
   "cell_type": "code",
   "execution_count": 1,
   "metadata": {},
   "outputs": [],
   "source": [
    "import mido\n",
    "import sys\n",
    "import time"
   ]
  },
  {
   "cell_type": "markdown",
   "metadata": {},
   "source": [
    "Get Find the midi ports with VYPYR in in"
   ]
  },
  {
   "cell_type": "code",
   "execution_count": 2,
   "metadata": {},
   "outputs": [
    {
     "name": "stdout",
     "output_type": "stream",
     "text": [
      "Output Opened:  VYPYR USB Interface:VYPYR USB Interface MIDI 1 20:0\n",
      "Input Opened:   VYPYR USB Interface:VYPYR USB Interface MIDI 1 20:0\n"
     ]
    }
   ],
   "source": [
    "input = None\n",
    "output = None\n",
    "\n",
    "for name in mido.get_output_names():\n",
    "  if name.startswith(\"VYPYR\"):\n",
    "    output = mido.open_output(name)\n",
    "    print(\"Output Opened: \",name)\n",
    "    \n",
    "for name in mido.get_input_names():\n",
    "  if name.startswith(\"VYPYR\"):\n",
    "    input = mido.open_input(name)\n",
    "    print(\"Input Opened:  \",name)\n"
   ]
  },
  {
   "cell_type": "markdown",
   "metadata": {},
   "source": [
    "## Methods for manipulating the device over MIDI"
   ]
  },
  {
   "cell_type": "code",
   "execution_count": 3,
   "metadata": {},
   "outputs": [],
   "source": [
    "prefix = [ 0x00, 0x00, 0x1B, 0x12, 0x00]\n",
    "def send_control(id,value):\n",
    "    output.send(msg = mido.Message(\"control_change\", control=id, value=value))\n",
    "\n",
    "def send_query():\n",
    "    flush()\n",
    "    msg = mido.Message('sysex', data= prefix + [0x63, 0x7f, 0x7f])\n",
    "    output.send(msg)\n",
    "    \n",
    "def flush():\n",
    "    for msg in input.iter_pending():\n",
    "        None\n",
    "        \n",
    "def read_data():\n",
    "    for msg in input.iter_pending():\n",
    "       print(msg)\n",
    "       print(msg.hex())\n",
    "        \n",
    "def read_block(type = None):\n",
    "    for msg in input:\n",
    "       if type == None or type == msg.type:\n",
    "           return msg\n",
    "        \n",
    "def read_conf():\n",
    "    send_query();\n",
    "    return read_block(type='sysex')\n",
    "\n",
    "def wait_for_data(t):\n",
    "    start = time.time()\n",
    "    while time.time() - start < t:\n",
    "        msg = input.poll()\n",
    "        print(\"a\")\n",
    "        if msg:\n",
    "            return msg\n",
    "    return None\n",
    "\n",
    "read_data()\n",
    "flush()"
   ]
  },
  {
   "cell_type": "markdown",
   "metadata": {},
   "source": [
    "Mostly reference here for how to "
   ]
  },
  {
   "cell_type": "code",
   "execution_count": 4,
   "metadata": {},
   "outputs": [],
   "source": [
    "msg = mido.Message('note_on',note=0x10, channel=1)\n",
    "output.send(msg);\n",
    "msg = mido.Message('note_off',note=0x10, channel=1)\n",
    "output.send(msg);\n"
   ]
  },
  {
   "cell_type": "markdown",
   "metadata": {},
   "source": [
    "If we really need to write raw data, the _rt method is available, but thankfully this sysex approach is going to work."
   ]
  },
  {
   "cell_type": "code",
   "execution_count": 5,
   "metadata": {},
   "outputs": [
    {
     "data": {
      "text/plain": [
       "<_rtmidi.MidiOut at 0xb1170170>"
      ]
     },
     "execution_count": 5,
     "metadata": {},
     "output_type": "execute_result"
    }
   ],
   "source": [
    "output._rt"
   ]
  },
  {
   "cell_type": "markdown",
   "metadata": {},
   "source": [
    "## Inquiry command - Get version\n",
    "\n",
    "This sysex message is documented in the Vypyr Pro manual as an Inquiry command.  \n",
    "\n",
    "The response to a standard inquiry is: F0 7E 7F 06 02 00 00 1B 30 00 00 00 ww xx yy zz F7\n",
    "\n",
    "where:\n",
    "\n",
    "'ww' is 41 ('A' amp mode), 44 ('D' demo mode), 54 ('T' tuner mode) or 42 ('B' bootcode -\n",
    "software update mode)\n",
    "\n",
    "'xx' is the major version number (30 or 31 for 0.0 or 1.0)\n",
    "\n",
    "'yy' and 'zz' are the minor version digits (30..39 for a range of .00 to .99)\n",
    "\n",
    "Perhaps this can be used to query the type of amp before sending other commands to check for compatibility."
   ]
  },
  {
   "cell_type": "code",
   "execution_count": 6,
   "metadata": {},
   "outputs": [
    {
     "name": "stdout",
     "output_type": "stream",
     "text": [
      "F0 7E 7F 06 01 F7\n"
     ]
    }
   ],
   "source": [
    "#msg = mido.Message('sysex', data=[0x00,0x00,0x04,0x1b,0x12,0x00,0x04,0x63,0x7f,0x7f,0x05])\n",
    "flush()\n",
    "msg = mido.Message('sysex', data=[ 0x7E, 0x7F, 0x06, 0x01])\n",
    "print(msg.hex())"
   ]
  },
  {
   "cell_type": "code",
   "execution_count": 7,
   "metadata": {},
   "outputs": [
    {
     "name": "stdout",
     "output_type": "stream",
     "text": [
      "F0 7E 00 06 02 00 00 1B 12 00 09 00 30 31 36 31 F7\n"
     ]
    }
   ],
   "source": [
    "output.send(msg)\n",
    "inquiry_reply = read_block()\n",
    "print(inquiry_reply.hex());"
   ]
  },
  {
   "cell_type": "code",
   "execution_count": 8,
   "metadata": {},
   "outputs": [
    {
     "name": "stdout",
     "output_type": "stream",
     "text": [
      "Version: 1.16\n"
     ]
    }
   ],
   "source": [
    "major = 0\n",
    "wwxxyyzz = inquiry_reply.data[11:]\n",
    "if wwxxyyzz[1] == 0x31:\n",
    "    major = 1\n",
    "minor = (wwxxyyzz[2] - 0x30) + (wwxxyyzz[3] - 0x30) * 10\n",
    "print(\"Version: \" + str(major) + \".\" + str(minor))"
   ]
  },
  {
   "cell_type": "markdown",
   "metadata": {},
   "source": [
    "# Read the configuration block"
   ]
  },
  {
   "cell_type": "code",
   "execution_count": 9,
   "metadata": {},
   "outputs": [
    {
     "name": "stdout",
     "output_type": "stream",
     "text": [
      "sysex data=(0,0,27,18,9,99,127,127,1,10,0,2,0,2,0,2,0,2,0,2,0,2,0,6,0,12,0,2,0,2,3,7,3,7,0,2,2,8,0,2,0,0,0,10,0,2,0,2,15,15,15,15,15,15,15,15,15,15,15,15,15,15,15,15,15,15,15,15,15,15,15,15,15,15,15,15,15,15,15,15,15,15,15,15,15,15,15,15,15,15,15,15,15,15,15,15,15,15,15,15,15,15,15,15,15,15,15,15,15,15,15,15,15,15,15,15,15,15,15,15,15,15,15,15,15,15,15,15,15,15,15,15,15,15,15,15,15,15,15,15,15,15,15,15,15,15,15,15,15,15,15,15,15,15,15,15,15,15,15,15,15,15,15,15,15,15,15,15,15,15,15,15,15,15,15,15,15,15,15,15,15,15,15,15,15,15,15,15,15,15,0,0,0,0,0,0,0,0,4,12,4,5,4,1,4,4,2,0,4,7,4,1,4,9,4,14,2,0,2,0,2,0,2,0,2,0,2,0,2,0,2,0,2,0,2,0,2,0,2,0,2,0,2,0,2,0,2,0,2,0,2,0,2,0,2,0,2,0,2,0,2,0,10,5) time=0\n"
     ]
    }
   ],
   "source": [
    "send_query()\n",
    "print(read_block())"
   ]
  },
  {
   "cell_type": "markdown",
   "metadata": {},
   "source": [
    "## The result of this should be true.  Just reading the block twice"
   ]
  },
  {
   "cell_type": "code",
   "execution_count": 10,
   "metadata": {},
   "outputs": [
    {
     "data": {
      "text/plain": [
       "True"
      ]
     },
     "execution_count": 10,
     "metadata": {},
     "output_type": "execute_result"
    }
   ],
   "source": [
    "send_query()\n",
    "a = read_block()\n",
    "time.sleep(1)\n",
    "send_query()\n",
    "b = read_block()\n",
    "a == b"
   ]
  },
  {
   "cell_type": "markdown",
   "metadata": {},
   "source": [
    "We find a control by setting the value of the control to 1, reading it, changing the control value to 2, and reading\n",
    "the configuration a second time.  One or more fields should change.  The changed field(s) are the values affected by this\n",
    "control."
   ]
  },
  {
   "cell_type": "code",
   "execution_count": 17,
   "metadata": {},
   "outputs": [],
   "source": [
    "def find_control(id):\n",
    "    send_control(id,1);\n",
    "    a = read_conf()\n",
    "    send_control(id,2);\n",
    "    b = read_conf()\n",
    "    i=0\n",
    "    count = 0\n",
    "    for v in zip(a.data,b.data):\n",
    "        if v[0] != v[1]:\n",
    "            print(\"  Index: \",i,\" \",hex(v[0]),\" != \",hex(v[1]))\n",
    "            count += 1\n",
    "        i=i+1\n",
    "    return count"
   ]
  },
  {
   "cell_type": "code",
   "execution_count": 12,
   "metadata": {},
   "outputs": [
    {
     "name": "stdout",
     "output_type": "stream",
     "text": [
      "  Index:  19   0x1  !=  0x2\n"
     ]
    },
    {
     "data": {
      "text/plain": [
       "True"
      ]
     },
     "execution_count": 12,
     "metadata": {},
     "output_type": "execute_result"
    }
   ],
   "source": [
    "flush()\n",
    "find_control(20)"
   ]
  },
  {
   "cell_type": "code",
   "execution_count": 13,
   "metadata": {},
   "outputs": [
    {
     "name": "stdout",
     "output_type": "stream",
     "text": [
      "  Index:  35   0x1  !=  0x2\n"
     ]
    },
    {
     "data": {
      "text/plain": [
       "True"
      ]
     },
     "execution_count": 13,
     "metadata": {},
     "output_type": "execute_result"
    }
   ],
   "source": [
    "find_control(21)"
   ]
  },
  {
   "cell_type": "markdown",
   "metadata": {},
   "source": [
    "## Documentation:\n",
    "\n",
    "Below are the control values for the knobs on the VIP-2.  These were determined by rotating knobs and watching the MIDI stream.\n",
    "\n",
    "### Control Change\n",
    "\n",
    "* pregain = 16\n",
    "* low = 17\n",
    "* mid = 18\n",
    "* high = 19\n",
    "* postgain = 20\n",
    "\n",
    "* P1 = 27\n",
    "* P2 = 26\n",
    "* Delay Feedback = 21\n",
    "* Delay Level = 23\n",
    "* Reverb = 31\n",
    "\n",
    "* Effect = 10\n",
    "* Amp = 8\n",
    "* Inst/Stomp = 11\n",
    "\n",
    "![Front Panel](frontpanel.png)\n"
   ]
  },
  {
   "cell_type": "code",
   "execution_count": 14,
   "metadata": {},
   "outputs": [],
   "source": [
    "known_controls = {\n",
    "    \"pregain\" : 16,\n",
    "    \"low\": 17,\n",
    "    \"mid\" : 18,\n",
    "    \"high\" : 19,\n",
    "    \"postgain\" : 20,\n",
    "    \"P1\" : 27,\n",
    "    \"P2\" : 26,\n",
    "    \"Delay Feedback\" : 21,\n",
    "    \"Delay Level\" : 23,\n",
    "    \"Reverb\" : 31,\n",
    "    \"Effect\" : 10,\n",
    "    \"Amp\" : 8,\n",
    "    \"Inst/Stomp\" : 11\n",
    "}"
   ]
  },
  {
   "cell_type": "markdown",
   "metadata": {},
   "source": [
    "# Loop through all controls from 1 to 32 inclusive\n",
    "\n",
    "Print out the configuration indices that change.  The controls that change should correspond to the known controls above.\n",
    "\n",
    "More importantly, this searches for controls that are represented in the configuration that we do not have in our known\n",
    "controls list.  Any control that hits this warning should be checked to see what it affects."
   ]
  },
  {
   "cell_type": "code",
   "execution_count": 19,
   "metadata": {},
   "outputs": [
    {
     "name": "stdout",
     "output_type": "stream",
     "text": [
      "Control:  1\n",
      "Control:  2\n",
      "Control:  3\n",
      "Control:  4\n",
      "Control:  5\n",
      "Control:  6\n",
      "Control:  7\n",
      "Control:  8\n",
      "  Index:  8   0x2  !=  0x1\n",
      "  Index:  9   0x3  !=  0xa\n",
      "  Index:  10   0x6  !=  0x0\n",
      "  Index:  11   0x4  !=  0x2\n",
      "  Index:  12   0x3  !=  0x0\n",
      "  Index:  13   0x5  !=  0x2\n",
      "  Index:  14   0x6  !=  0x0\n",
      "  Index:  15   0x4  !=  0x2\n",
      "  Index:  16   0x5  !=  0x0\n",
      "  Index:  17   0xa  !=  0x2\n",
      "  Index:  18   0x6  !=  0x0\n",
      "  Index:  19   0x4  !=  0x2\n",
      "Control:  9\n",
      "Control:  10\n",
      "  Index:  25   0x1  !=  0xc\n",
      "  Index:  26   0x3  !=  0x0\n",
      "  Index:  27   0x4  !=  0x2\n",
      "  Index:  28   0x5  !=  0x0\n",
      "Control:  11\n",
      "  Index:  8   0x0  !=  0x1\n",
      "  Index:  9   0x8  !=  0xa\n",
      "  Index:  10   0x6  !=  0x0\n",
      "  Index:  11   0x4  !=  0x2\n",
      "  Index:  12   0x3  !=  0x0\n",
      "  Index:  13   0xf  !=  0x2\n",
      "  Index:  14   0x5  !=  0x0\n",
      "  Index:  15   0x5  !=  0x2\n",
      "  Index:  17   0x0  !=  0x2\n",
      "  Index:  18   0x7  !=  0x0\n",
      "  Index:  19   0xf  !=  0x2\n",
      "  Index:  43   0x4  !=  0xa\n",
      "  Index:  44   0x5  !=  0x0\n",
      "  Index:  45   0x4  !=  0x2\n",
      "  Index:  46   0x2  !=  0x0\n",
      "  Index:  47   0xa  !=  0x2\n",
      "Control:  12\n",
      "  Index:  8   0x0  !=  0x1\n",
      "  Index:  9   0xe  !=  0xa\n",
      "  Index:  10   0x6  !=  0x0\n",
      "  Index:  11   0x7  !=  0x2\n",
      "  Index:  12   0x6  !=  0x0\n",
      "  Index:  13   0xa  !=  0x2\n",
      "  Index:  14   0x5  !=  0x0\n",
      "  Index:  15   0xf  !=  0x2\n",
      "  Index:  16   0x7  !=  0x0\n",
      "  Index:  17   0xf  !=  0x2\n",
      "  Index:  18   0x4  !=  0x0\n",
      "  Index:  19   0xf  !=  0x2\n",
      "  Warning: this control changed something in the config, but isn't a known control.\n",
      "Control:  13\n",
      "Control:  14\n",
      "Control:  15\n",
      "Control:  16\n",
      "  Index:  17   0x1  !=  0x2\n",
      "Control:  17\n",
      "  Index:  11   0x1  !=  0x2\n",
      "Control:  18\n",
      "  Index:  13   0x1  !=  0x2\n",
      "Control:  19\n",
      "  Index:  15   0x1  !=  0x2\n",
      "Control:  20\n",
      "  Index:  19   0x1  !=  0x2\n",
      "Control:  21\n",
      "  Index:  35   0x1  !=  0x2\n",
      "Control:  22\n",
      "Control:  23\n",
      "  Index:  39   0x1  !=  0x2\n",
      "Control:  24\n",
      "  Index:  47   0x1  !=  0x2\n",
      "  Warning: this control changed something in the config, but isn't a known control.\n",
      "Control:  25\n",
      "  Index:  45   0x1  !=  0x2\n",
      "  Warning: this control changed something in the config, but isn't a known control.\n",
      "Control:  26\n",
      "  Index:  29   0x1  !=  0x2\n",
      "Control:  27\n",
      "  Index:  27   0x1  !=  0x2\n",
      "Control:  28\n",
      "Control:  29\n",
      "Control:  30\n",
      "Control:  31\n",
      "  Index:  21   0x1  !=  0x2\n"
     ]
    }
   ],
   "source": [
    "for control in range(1,32):\n",
    "    print(\"Control: \",control)\n",
    "    if find_control(control) > 0:\n",
    "        # Make sure this is one of our known controls\n",
    "        if not control in known_controls.values(): # Isn't that beatifully written?\n",
    "            print(\"  Warning: this control changed something in the config, but isn't a known control.\")"
   ]
  },
  {
   "cell_type": "code",
   "execution_count": 18,
   "metadata": {},
   "outputs": [
    {
     "name": "stdout",
     "output_type": "stream",
     "text": [
      "Control:  Reverb ( 31 )\n",
      "  Index:  21   0x1  !=  0x2\n",
      "Control:  postgain ( 20 )\n",
      "  Index:  19   0x1  !=  0x2\n",
      "Control:  mid ( 18 )\n",
      "  Index:  13   0x1  !=  0x2\n",
      "Control:  P2 ( 26 )\n",
      "  Index:  29   0x1  !=  0x2\n",
      "Control:  Delay Feedback ( 21 )\n",
      "  Index:  35   0x1  !=  0x2\n",
      "Control:  P1 ( 27 )\n",
      "  Index:  27   0x1  !=  0x2\n",
      "Control:  Amp ( 8 )\n",
      "  Index:  8   0x2  !=  0x1\n",
      "  Index:  9   0x3  !=  0xa\n",
      "  Index:  10   0x6  !=  0x0\n",
      "  Index:  11   0x4  !=  0x2\n",
      "  Index:  12   0x3  !=  0x0\n",
      "  Index:  13   0x5  !=  0x2\n",
      "  Index:  14   0x6  !=  0x0\n",
      "  Index:  15   0x4  !=  0x2\n",
      "  Index:  16   0x5  !=  0x0\n",
      "  Index:  17   0xa  !=  0x2\n",
      "  Index:  18   0x6  !=  0x0\n",
      "  Index:  19   0x4  !=  0x2\n",
      "Control:  pregain ( 16 )\n",
      "  Index:  17   0x1  !=  0x2\n",
      "Control:  high ( 19 )\n",
      "  Index:  15   0x1  !=  0x2\n",
      "Control:  Effect ( 10 )\n",
      "  Index:  25   0x1  !=  0xc\n",
      "  Index:  26   0x3  !=  0x0\n",
      "  Index:  27   0x4  !=  0x2\n",
      "  Index:  28   0x5  !=  0x0\n",
      "Control:  Delay Level ( 23 )\n",
      "  Index:  39   0x1  !=  0x2\n",
      "Control:  Inst/Stomp ( 11 )\n",
      "  Index:  8   0x0  !=  0x1\n",
      "  Index:  9   0x8  !=  0xa\n",
      "  Index:  10   0x6  !=  0x0\n",
      "  Index:  11   0x4  !=  0x2\n",
      "  Index:  12   0x3  !=  0x0\n",
      "  Index:  13   0xf  !=  0x2\n",
      "  Index:  14   0x5  !=  0x0\n",
      "  Index:  15   0x5  !=  0x2\n",
      "  Index:  17   0x0  !=  0x2\n",
      "  Index:  18   0x7  !=  0x0\n",
      "  Index:  19   0xf  !=  0x2\n",
      "  Index:  43   0x4  !=  0xa\n",
      "  Index:  44   0x5  !=  0x0\n",
      "  Index:  45   0x4  !=  0x2\n",
      "  Index:  46   0x2  !=  0x0\n",
      "  Index:  47   0xa  !=  0x2\n",
      "Control:  low ( 17 )\n",
      "  Index:  11   0x1  !=  0x2\n"
     ]
    }
   ],
   "source": [
    "for control,control_id in known_controls.items():\n",
    "    print(\"Control: \",control,\"(\",control_id,\")\")\n",
    "    if 0 == find_control(control_id):\n",
    "        print(\"  Warning: this is a known control, but we didn't see a change in the configuration\")"
   ]
  },
  {
   "cell_type": "code",
   "execution_count": null,
   "metadata": {},
   "outputs": [],
   "source": []
  }
 ],
 "metadata": {
  "kernelspec": {
   "display_name": "Python 3",
   "language": "python",
   "name": "python3"
  },
  "language_info": {
   "codemirror_mode": {
    "name": "ipython",
    "version": 3
   },
   "file_extension": ".py",
   "mimetype": "text/x-python",
   "name": "python",
   "nbconvert_exporter": "python",
   "pygments_lexer": "ipython3",
   "version": "3.5.3"
  }
 },
 "nbformat": 4,
 "nbformat_minor": 2
}
